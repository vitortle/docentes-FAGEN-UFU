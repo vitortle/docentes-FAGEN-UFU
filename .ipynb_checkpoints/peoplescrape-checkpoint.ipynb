{
 "cells": [
  {
   "cell_type": "code",
   "execution_count": 229,
   "id": "dd5613f7-67a0-458e-903f-b5df78d88172",
   "metadata": {},
   "outputs": [],
   "source": [
    "import requests\n",
    "from bs4 import BeautifulSoup as bs\n",
    "import pandas as pd\n",
    "import itertools\n",
    "import os"
   ]
  },
  {
   "cell_type": "code",
   "execution_count": 193,
   "id": "f3f74116-eb05-4fde-bc3d-c3f217f62e3b",
   "metadata": {},
   "outputs": [
    {
     "data": {
      "text/plain": [
       "9"
      ]
     },
     "execution_count": 193,
     "metadata": {},
     "output_type": "execute_result"
    }
   ],
   "source": [
    "#getting a sample of the page \n",
    "url = 'http://www.fagen.ufu.br/equipe'\n",
    "req = requests.get(url)\n",
    "soup = bs(req.text, 'html.parser')\n",
    "\n",
    "\n",
    "#determining the last page to help me on the loop\n",
    "pagestring = soup.find('a', title='Ir para a última página').get('href')\n",
    "lastpage = int(pagestring[pagestring.find('=')+1:])\n",
    "lastpage"
   ]
  },
  {
   "cell_type": "code",
   "execution_count": 180,
   "id": "0a4c5c94-7f53-44b7-ae62-ef6c51522066",
   "metadata": {},
   "outputs": [
    {
     "data": {
      "text/plain": [
       "'http://lattes.cnpq.br/4897620765386940'"
      ]
     },
     "execution_count": 180,
     "metadata": {},
     "output_type": "execute_result"
    }
   ],
   "source": [
    "people[0].select_one('a[href*=lattes]').string"
   ]
  },
  {
   "cell_type": "code",
   "execution_count": 212,
   "id": "b5d0b01b-b492-45ef-a8ca-8c0d114c7012",
   "metadata": {},
   "outputs": [
    {
     "name": "stdout",
     "output_type": "stream",
     "text": [
      "---- Starting page 0----\n",
      "Aleandra da Silva Figueira Sampaio\n",
      "Ana Beatriz Pereira Reis\n",
      "André Francisco Alcântara Fagundes\n",
      "Andrea Costa Van Herk Vasconcelos\n",
      "Antonio Sérgio Torres Penedo\n",
      "Aracy Alves de Araújo\n",
      "Camila de Araújo\n",
      "Carla Bonato Marcolin\n",
      "---- End of page 0----\n",
      "\n",
      "---- Starting page 1----\n",
      "Carlos Henrique Viola\n",
      "Carlos Roberto Domingues\n",
      "Catarine Palmieri Pitangui Tizziotti\n",
      "Cíntia Rodrigues de Oliveira\n",
      "Cláudio Luiz Miotto\n",
      "Cristiane Betanho\n",
      "Cristiano Augusto Borges Forti\n",
      "Cristiano Henrique Antonelli da Veiga\n",
      "---- End of page 1----\n",
      "\n",
      "---- Starting page 2----\n",
      "Cristina Damm Forattini Dias\n",
      "Darly Fernando Andrade\n",
      "Diego Batista de Carvalho\n",
      "Edileusa Godói de Sousa\n",
      "Eduardo Giarola\n",
      "Élcio Eduardo de Paula Santana\n",
      "Etienne Cardoso Abdala\n",
      "Eunice Henriques Pereira Vilela\n",
      "---- End of page 2----\n",
      "\n",
      "---- Starting page 3----\n",
      "Eustáquio São José de Faria\n",
      "Fabiolla Valeria Gonçalves\n",
      "Fernanda Francielle de Oliveira Malaquias\n",
      "Fernanda Maciel Peixoto\n",
      "Flávio Luiz de Moraes Barboza\n",
      "Henrique Geraldo Rodrigues\n",
      "Jacquelaine Florindo Borges\n",
      "Jaluza Maria Lima Silva Borsatto\n",
      "---- End of page 3----\n",
      "\n",
      "---- Starting page 4----\n",
      "Janaína Maria Bueno\n",
      "Janduhy Camilo Passos\n",
      "Jean Carlos Domingos\n",
      "João Henrique Lopes Guerra\n",
      "José Eduardo Ferreira Lopes\n",
      "Juliana Amaral Oliveira\n",
      "Kárem Cristina de Sousa Ribeiro\n",
      "Kleber Carlos Ribeiro Pinto\n",
      "---- End of page 4----\n",
      "\n",
      "---- Starting page 5----\n",
      "Leonardo Caixeta de Castro Maia\n",
      "Luciana Carvalho\n",
      "Luciana Oranges Cezarino\n",
      "Luciano Ferreira Carvalho\n",
      "Luciano Rossoni\n",
      "Lucien Jacques Geargeoura\n",
      "Luís Carlos Padrão\n",
      "Mara Alves Soares\n",
      "---- End of page 5----\n",
      "\n",
      "---- Starting page 6----\n",
      "Marcelo Fodra\n",
      "Marcelo Ruy\n",
      "Márcia Freire de Oliveira\n",
      "Marcia Mitie Durante Maemura\n",
      "Márcio Lopes Pimenta\n",
      "Marcos Roberto Alves da Silva\n",
      "Maria Raquel Caixeta Gandolfi\n",
      "Michele Aparecida Cunha\n",
      "---- End of page 6----\n",
      "\n",
      "---- Starting page 7----\n",
      "Michelle de Castro Carrijo\n",
      "Milena de Cássia Rocha\n",
      "Miriam Tiemi Takimura Oliveira\n",
      "Noézia Maria Ramos\n",
      "Pablo Rogers Silva\n",
      "Peterson Gandolfi\n",
      "Rafael Silva Guerreiro\n",
      "Rafaela Costa Cruz Barbieri\n",
      "---- End of page 7----\n",
      "\n",
      "---- Starting page 8----\n",
      "Raul de Freitas Balbino\n",
      "Renata Rodrigues Daher Paulo\n",
      "Roberta Leal Hias Teruel\n",
      "Rodrigo Fernandes Malaquias\n",
      "Rodrigo Miranda\n",
      "Sany Karla Machado\n",
      "Sérgio Luiz do Amaral Moretti\n",
      "Thaís Moura Martins dos Santos\n",
      "---- End of page 8----\n",
      "\n"
     ]
    }
   ],
   "source": [
    "def people_data(people):\n",
    "    peoplelist = []\n",
    "    for person in people:\n",
    "        #person name\n",
    "        if person.a is None:\n",
    "            name = None\n",
    "        else:\n",
    "            name = person.a.string \n",
    "        \n",
    "         #control variable\n",
    "        print(name)\n",
    "            \n",
    "        #lattes\n",
    "        if person.select_one('a[href*=lattes]') is None: \n",
    "            lattes = None\n",
    "        else:\n",
    "            lattes = person.select_one('a[href*=lattes]')['href']\n",
    "\n",
    "        #research field\n",
    "        if person.p is None:\n",
    "            researchfield = None\n",
    "        else:\n",
    "            researchfield = person.p.string \n",
    "\n",
    "        #email\n",
    "        if person.select_one('a[href*=mailto]') is None:\n",
    "            email = None\n",
    "        else:\n",
    "            email = person.select_one('a[href*=mailto]').string\n",
    "\n",
    "        #admission date\n",
    "        if person.find('span', class_='date-display-single') is None:\n",
    "            admissiondate = None\n",
    "        else:\n",
    "            admissiondate = person.find('span', class_='date-display-single').text \n",
    "\n",
    "        peoplelist.append([name, lattes, researchfield, email, admissiondate])    \n",
    "    return peoplelist\n",
    "\n",
    "peoplelist = []\n",
    "\n",
    "for page in range(0,lastpage):\n",
    "    print('---- Starting page ' + str(page) + '----')\n",
    "    req = requests.get(url + '?page=' + str(page))\n",
    "    soup = bs(req.text, 'html.parser')\n",
    "    people = soup.find_all('div', class_='col-sm-9')\n",
    "    peoplelist = peoplelist + people_data(people)\n",
    "    print('---- End of page ' + str(page) + '----\\n')"
   ]
  },
  {
   "cell_type": "code",
   "execution_count": 226,
   "id": "55515dea-9a73-493f-9f80-bb5d8d237248",
   "metadata": {},
   "outputs": [],
   "source": [
    "#insert into a dataframe\n",
    "people_df = pd.DataFrame(peoplelist, columns = ('Name', 'Lattes', 'Field of Interest','Email', 'Admission Date'))"
   ]
  },
  {
   "cell_type": "code",
   "execution_count": 235,
   "id": "416ce614-32d8-41a8-8b3e-4b6e65135916",
   "metadata": {},
   "outputs": [
    {
     "data": {
      "text/plain": [
       "False"
      ]
     },
     "execution_count": 236,
     "metadata": {},
     "output_type": "execute_result"
    }
   ],
   "source": [
    "os.path.exists('data')"
   ]
  },
  {
   "cell_type": "code",
   "execution_count": 230,
   "id": "49a99160-50fc-4597-86ab-97721a594d71",
   "metadata": {},
   "outputs": [
    {
     "ename": "FileNotFoundError",
     "evalue": "[Errno 2] No such file or directory: '/home/vitor/OneDrive/Faculdade/Orientadores/Busca orientador/docentes-FAGEN-UFU/data/orientadoresfagen.xlsx'",
     "output_type": "error",
     "traceback": [
      "\u001b[0;31m---------------------------------------------------------------------------\u001b[0m",
      "\u001b[0;31mFileNotFoundError\u001b[0m                         Traceback (most recent call last)",
      "\u001b[0;32m/tmp/ipykernel_21839/2686684256.py\u001b[0m in \u001b[0;36m<module>\u001b[0;34m\u001b[0m\n\u001b[1;32m      2\u001b[0m \u001b[0;32mif\u001b[0m \u001b[0;32mnot\u001b[0m \u001b[0mos\u001b[0m\u001b[0;34m.\u001b[0m\u001b[0mpath\u001b[0m\u001b[0;34m.\u001b[0m\u001b[0mexists\u001b[0m\u001b[0;34m(\u001b[0m\u001b[0;34m'data'\u001b[0m\u001b[0;34m)\u001b[0m\u001b[0;34m:\u001b[0m\u001b[0;34m\u001b[0m\u001b[0;34m\u001b[0m\u001b[0m\n\u001b[1;32m      3\u001b[0m     \u001b[0mos\u001b[0m\u001b[0;34m.\u001b[0m\u001b[0mmkdir\u001b[0m\u001b[0;34m(\u001b[0m\u001b[0;34m'data'\u001b[0m\u001b[0;34m)\u001b[0m\u001b[0;34m\u001b[0m\u001b[0;34m\u001b[0m\u001b[0m\n\u001b[0;32m----> 4\u001b[0;31m \u001b[0mpeople_df\u001b[0m\u001b[0;34m.\u001b[0m\u001b[0mto_excel\u001b[0m\u001b[0;34m(\u001b[0m\u001b[0;34m'~/OneDrive/Faculdade/Orientadores/Busca orientador/docentes-FAGEN-UFU/data/orientadoresfagen.xlsx'\u001b[0m\u001b[0;34m)\u001b[0m\u001b[0;34m\u001b[0m\u001b[0;34m\u001b[0m\u001b[0m\n\u001b[0m",
      "\u001b[0;32m~/anaconda3/envs/profagen/lib/python3.9/site-packages/pandas/core/generic.py\u001b[0m in \u001b[0;36mto_excel\u001b[0;34m(self, excel_writer, sheet_name, na_rep, float_format, columns, header, index, index_label, startrow, startcol, engine, merge_cells, encoding, inf_rep, verbose, freeze_panes, storage_options)\u001b[0m\n\u001b[1;32m   2282\u001b[0m             \u001b[0minf_rep\u001b[0m\u001b[0;34m=\u001b[0m\u001b[0minf_rep\u001b[0m\u001b[0;34m,\u001b[0m\u001b[0;34m\u001b[0m\u001b[0;34m\u001b[0m\u001b[0m\n\u001b[1;32m   2283\u001b[0m         )\n\u001b[0;32m-> 2284\u001b[0;31m         formatter.write(\n\u001b[0m\u001b[1;32m   2285\u001b[0m             \u001b[0mexcel_writer\u001b[0m\u001b[0;34m,\u001b[0m\u001b[0;34m\u001b[0m\u001b[0;34m\u001b[0m\u001b[0m\n\u001b[1;32m   2286\u001b[0m             \u001b[0msheet_name\u001b[0m\u001b[0;34m=\u001b[0m\u001b[0msheet_name\u001b[0m\u001b[0;34m,\u001b[0m\u001b[0;34m\u001b[0m\u001b[0;34m\u001b[0m\u001b[0m\n",
      "\u001b[0;32m~/anaconda3/envs/profagen/lib/python3.9/site-packages/pandas/io/formats/excel.py\u001b[0m in \u001b[0;36mwrite\u001b[0;34m(self, writer, sheet_name, startrow, startcol, freeze_panes, engine, storage_options)\u001b[0m\n\u001b[1;32m    832\u001b[0m             \u001b[0;31m# error: Cannot instantiate abstract class 'ExcelWriter' with abstract\u001b[0m\u001b[0;34m\u001b[0m\u001b[0;34m\u001b[0m\u001b[0;34m\u001b[0m\u001b[0m\n\u001b[1;32m    833\u001b[0m             \u001b[0;31m# attributes 'engine', 'save', 'supported_extensions' and 'write_cells'\u001b[0m\u001b[0;34m\u001b[0m\u001b[0;34m\u001b[0m\u001b[0;34m\u001b[0m\u001b[0m\n\u001b[0;32m--> 834\u001b[0;31m             writer = ExcelWriter(  # type: ignore[abstract]\n\u001b[0m\u001b[1;32m    835\u001b[0m                 \u001b[0mwriter\u001b[0m\u001b[0;34m,\u001b[0m \u001b[0mengine\u001b[0m\u001b[0;34m=\u001b[0m\u001b[0mengine\u001b[0m\u001b[0;34m,\u001b[0m \u001b[0mstorage_options\u001b[0m\u001b[0;34m=\u001b[0m\u001b[0mstorage_options\u001b[0m\u001b[0;34m\u001b[0m\u001b[0;34m\u001b[0m\u001b[0m\n\u001b[1;32m    836\u001b[0m             )\n",
      "\u001b[0;32m~/anaconda3/envs/profagen/lib/python3.9/site-packages/pandas/io/excel/_openpyxl.py\u001b[0m in \u001b[0;36m__init__\u001b[0;34m(self, path, engine, date_format, datetime_format, mode, storage_options, if_sheet_exists, engine_kwargs, **kwargs)\u001b[0m\n\u001b[1;32m     50\u001b[0m         \u001b[0mengine_kwargs\u001b[0m \u001b[0;34m=\u001b[0m \u001b[0mcombine_kwargs\u001b[0m\u001b[0;34m(\u001b[0m\u001b[0mengine_kwargs\u001b[0m\u001b[0;34m,\u001b[0m \u001b[0mkwargs\u001b[0m\u001b[0;34m)\u001b[0m\u001b[0;34m\u001b[0m\u001b[0;34m\u001b[0m\u001b[0m\n\u001b[1;32m     51\u001b[0m \u001b[0;34m\u001b[0m\u001b[0m\n\u001b[0;32m---> 52\u001b[0;31m         super().__init__(\n\u001b[0m\u001b[1;32m     53\u001b[0m             \u001b[0mpath\u001b[0m\u001b[0;34m,\u001b[0m\u001b[0;34m\u001b[0m\u001b[0;34m\u001b[0m\u001b[0m\n\u001b[1;32m     54\u001b[0m             \u001b[0mmode\u001b[0m\u001b[0;34m=\u001b[0m\u001b[0mmode\u001b[0m\u001b[0;34m,\u001b[0m\u001b[0;34m\u001b[0m\u001b[0;34m\u001b[0m\u001b[0m\n",
      "\u001b[0;32m~/anaconda3/envs/profagen/lib/python3.9/site-packages/pandas/io/excel/_base.py\u001b[0m in \u001b[0;36m__init__\u001b[0;34m(self, path, engine, date_format, datetime_format, mode, storage_options, if_sheet_exists, engine_kwargs, **kwargs)\u001b[0m\n\u001b[1;32m    923\u001b[0m         \u001b[0mself\u001b[0m\u001b[0;34m.\u001b[0m\u001b[0mhandles\u001b[0m \u001b[0;34m=\u001b[0m \u001b[0mIOHandles\u001b[0m\u001b[0;34m(\u001b[0m\u001b[0mcast\u001b[0m\u001b[0;34m(\u001b[0m\u001b[0mBuffer\u001b[0m\u001b[0;34m,\u001b[0m \u001b[0mpath\u001b[0m\u001b[0;34m)\u001b[0m\u001b[0;34m,\u001b[0m \u001b[0mcompression\u001b[0m\u001b[0;34m=\u001b[0m\u001b[0;34m{\u001b[0m\u001b[0;34m\"copression\"\u001b[0m\u001b[0;34m:\u001b[0m \u001b[0;32mNone\u001b[0m\u001b[0;34m}\u001b[0m\u001b[0;34m)\u001b[0m\u001b[0;34m\u001b[0m\u001b[0;34m\u001b[0m\u001b[0m\n\u001b[1;32m    924\u001b[0m         \u001b[0;32mif\u001b[0m \u001b[0;32mnot\u001b[0m \u001b[0misinstance\u001b[0m\u001b[0;34m(\u001b[0m\u001b[0mpath\u001b[0m\u001b[0;34m,\u001b[0m \u001b[0mExcelWriter\u001b[0m\u001b[0;34m)\u001b[0m\u001b[0;34m:\u001b[0m\u001b[0;34m\u001b[0m\u001b[0;34m\u001b[0m\u001b[0m\n\u001b[0;32m--> 925\u001b[0;31m             self.handles = get_handle(\n\u001b[0m\u001b[1;32m    926\u001b[0m                 \u001b[0mpath\u001b[0m\u001b[0;34m,\u001b[0m \u001b[0mmode\u001b[0m\u001b[0;34m,\u001b[0m \u001b[0mstorage_options\u001b[0m\u001b[0;34m=\u001b[0m\u001b[0mstorage_options\u001b[0m\u001b[0;34m,\u001b[0m \u001b[0mis_text\u001b[0m\u001b[0;34m=\u001b[0m\u001b[0;32mFalse\u001b[0m\u001b[0;34m\u001b[0m\u001b[0;34m\u001b[0m\u001b[0m\n\u001b[1;32m    927\u001b[0m             )\n",
      "\u001b[0;32m~/anaconda3/envs/profagen/lib/python3.9/site-packages/pandas/io/common.py\u001b[0m in \u001b[0;36mget_handle\u001b[0;34m(path_or_buf, mode, encoding, compression, memory_map, is_text, errors, storage_options)\u001b[0m\n\u001b[1;32m    708\u001b[0m         \u001b[0;32melse\u001b[0m\u001b[0;34m:\u001b[0m\u001b[0;34m\u001b[0m\u001b[0;34m\u001b[0m\u001b[0m\n\u001b[1;32m    709\u001b[0m             \u001b[0;31m# Binary mode\u001b[0m\u001b[0;34m\u001b[0m\u001b[0;34m\u001b[0m\u001b[0;34m\u001b[0m\u001b[0m\n\u001b[0;32m--> 710\u001b[0;31m             \u001b[0mhandle\u001b[0m \u001b[0;34m=\u001b[0m \u001b[0mopen\u001b[0m\u001b[0;34m(\u001b[0m\u001b[0mhandle\u001b[0m\u001b[0;34m,\u001b[0m \u001b[0mioargs\u001b[0m\u001b[0;34m.\u001b[0m\u001b[0mmode\u001b[0m\u001b[0;34m)\u001b[0m\u001b[0;34m\u001b[0m\u001b[0;34m\u001b[0m\u001b[0m\n\u001b[0m\u001b[1;32m    711\u001b[0m         \u001b[0mhandles\u001b[0m\u001b[0;34m.\u001b[0m\u001b[0mappend\u001b[0m\u001b[0;34m(\u001b[0m\u001b[0mhandle\u001b[0m\u001b[0;34m)\u001b[0m\u001b[0;34m\u001b[0m\u001b[0;34m\u001b[0m\u001b[0m\n\u001b[1;32m    712\u001b[0m \u001b[0;34m\u001b[0m\u001b[0m\n",
      "\u001b[0;31mFileNotFoundError\u001b[0m: [Errno 2] No such file or directory: '/home/vitor/OneDrive/Faculdade/Orientadores/Busca orientador/docentes-FAGEN-UFU/data/orientadoresfagen.xlsx'"
     ]
    }
   ],
   "source": [
    "#export to xlsx \n",
    "if not os.path.exists('data'):\n",
    "    os.mkdir('data')\n",
    "people_df.to_excel('~/OneDrive/Faculdade/Orientadores/Busca orientador/docentes-FAGEN-UFU/data/orientadoresfagen.xlsx')"
   ]
  }
 ],
 "metadata": {
  "kernelspec": {
   "display_name": "Python 3",
   "language": "python",
   "name": "python3"
  },
  "language_info": {
   "codemirror_mode": {
    "name": "ipython",
    "version": 3
   },
   "file_extension": ".py",
   "mimetype": "text/x-python",
   "name": "python",
   "nbconvert_exporter": "python",
   "pygments_lexer": "ipython3",
   "version": "3.9.6"
  }
 },
 "nbformat": 4,
 "nbformat_minor": 5
}
