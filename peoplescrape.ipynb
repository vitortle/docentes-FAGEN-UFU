{
 "cells": [
  {
   "cell_type": "code",
   "execution_count": 237,
   "id": "dd5613f7-67a0-458e-903f-b5df78d88172",
   "metadata": {},
   "outputs": [],
   "source": [
    "import requests\n",
    "from bs4 import BeautifulSoup as bs\n",
    "import pandas as pd\n",
    "import itertools\n",
    "import os"
   ]
  },
  {
   "cell_type": "code",
   "execution_count": 193,
   "id": "f3f74116-eb05-4fde-bc3d-c3f217f62e3b",
   "metadata": {},
   "outputs": [
    {
     "data": {
      "text/plain": [
       "9"
      ]
     },
     "execution_count": 193,
     "metadata": {},
     "output_type": "execute_result"
    }
   ],
   "source": [
    "#getting a sample of the page \n",
    "url = 'http://www.fagen.ufu.br/equipe'\n",
    "req = requests.get(url)\n",
    "soup = bs(req.text, 'html.parser')\n",
    "\n",
    "\n",
    "#determining the last page to help me on the loop\n",
    "pagestring = soup.find('a', title='Ir para a última página').get('href')\n",
    "lastpage = int(pagestring[pagestring.find('=')+1:])\n",
    "lastpage"
   ]
  },
  {
   "cell_type": "code",
   "execution_count": 180,
   "id": "0a4c5c94-7f53-44b7-ae62-ef6c51522066",
   "metadata": {},
   "outputs": [
    {
     "data": {
      "text/plain": [
       "'http://lattes.cnpq.br/4897620765386940'"
      ]
     },
     "execution_count": 180,
     "metadata": {},
     "output_type": "execute_result"
    }
   ],
   "source": [
    "people[0].select_one('a[href*=lattes]').string"
   ]
  },
  {
   "cell_type": "code",
   "execution_count": 212,
   "id": "b5d0b01b-b492-45ef-a8ca-8c0d114c7012",
   "metadata": {},
   "outputs": [
    {
     "name": "stdout",
     "output_type": "stream",
     "text": [
      "---- Starting page 0----\n",
      "Aleandra da Silva Figueira Sampaio\n",
      "Ana Beatriz Pereira Reis\n",
      "André Francisco Alcântara Fagundes\n",
      "Andrea Costa Van Herk Vasconcelos\n",
      "Antonio Sérgio Torres Penedo\n",
      "Aracy Alves de Araújo\n",
      "Camila de Araújo\n",
      "Carla Bonato Marcolin\n",
      "---- End of page 0----\n",
      "\n",
      "---- Starting page 1----\n",
      "Carlos Henrique Viola\n",
      "Carlos Roberto Domingues\n",
      "Catarine Palmieri Pitangui Tizziotti\n",
      "Cíntia Rodrigues de Oliveira\n",
      "Cláudio Luiz Miotto\n",
      "Cristiane Betanho\n",
      "Cristiano Augusto Borges Forti\n",
      "Cristiano Henrique Antonelli da Veiga\n",
      "---- End of page 1----\n",
      "\n",
      "---- Starting page 2----\n",
      "Cristina Damm Forattini Dias\n",
      "Darly Fernando Andrade\n",
      "Diego Batista de Carvalho\n",
      "Edileusa Godói de Sousa\n",
      "Eduardo Giarola\n",
      "Élcio Eduardo de Paula Santana\n",
      "Etienne Cardoso Abdala\n",
      "Eunice Henriques Pereira Vilela\n",
      "---- End of page 2----\n",
      "\n",
      "---- Starting page 3----\n",
      "Eustáquio São José de Faria\n",
      "Fabiolla Valeria Gonçalves\n",
      "Fernanda Francielle de Oliveira Malaquias\n",
      "Fernanda Maciel Peixoto\n",
      "Flávio Luiz de Moraes Barboza\n",
      "Henrique Geraldo Rodrigues\n",
      "Jacquelaine Florindo Borges\n",
      "Jaluza Maria Lima Silva Borsatto\n",
      "---- End of page 3----\n",
      "\n",
      "---- Starting page 4----\n",
      "Janaína Maria Bueno\n",
      "Janduhy Camilo Passos\n",
      "Jean Carlos Domingos\n",
      "João Henrique Lopes Guerra\n",
      "José Eduardo Ferreira Lopes\n",
      "Juliana Amaral Oliveira\n",
      "Kárem Cristina de Sousa Ribeiro\n",
      "Kleber Carlos Ribeiro Pinto\n",
      "---- End of page 4----\n",
      "\n",
      "---- Starting page 5----\n",
      "Leonardo Caixeta de Castro Maia\n",
      "Luciana Carvalho\n",
      "Luciana Oranges Cezarino\n",
      "Luciano Ferreira Carvalho\n",
      "Luciano Rossoni\n",
      "Lucien Jacques Geargeoura\n",
      "Luís Carlos Padrão\n",
      "Mara Alves Soares\n",
      "---- End of page 5----\n",
      "\n",
      "---- Starting page 6----\n",
      "Marcelo Fodra\n",
      "Marcelo Ruy\n",
      "Márcia Freire de Oliveira\n",
      "Marcia Mitie Durante Maemura\n",
      "Márcio Lopes Pimenta\n",
      "Marcos Roberto Alves da Silva\n",
      "Maria Raquel Caixeta Gandolfi\n",
      "Michele Aparecida Cunha\n",
      "---- End of page 6----\n",
      "\n",
      "---- Starting page 7----\n",
      "Michelle de Castro Carrijo\n",
      "Milena de Cássia Rocha\n",
      "Miriam Tiemi Takimura Oliveira\n",
      "Noézia Maria Ramos\n",
      "Pablo Rogers Silva\n",
      "Peterson Gandolfi\n",
      "Rafael Silva Guerreiro\n",
      "Rafaela Costa Cruz Barbieri\n",
      "---- End of page 7----\n",
      "\n",
      "---- Starting page 8----\n",
      "Raul de Freitas Balbino\n",
      "Renata Rodrigues Daher Paulo\n",
      "Roberta Leal Hias Teruel\n",
      "Rodrigo Fernandes Malaquias\n",
      "Rodrigo Miranda\n",
      "Sany Karla Machado\n",
      "Sérgio Luiz do Amaral Moretti\n",
      "Thaís Moura Martins dos Santos\n",
      "---- End of page 8----\n",
      "\n"
     ]
    }
   ],
   "source": [
    "def people_data(people):\n",
    "    peoplelist = []\n",
    "    for person in people:\n",
    "        #person name\n",
    "        if person.a is None:\n",
    "            name = None\n",
    "        else:\n",
    "            name = person.a.string \n",
    "        \n",
    "         #control variable\n",
    "        print(name)\n",
    "            \n",
    "        #lattes\n",
    "        if person.select_one('a[href*=lattes]') is None: \n",
    "            lattes = None\n",
    "        else:\n",
    "            lattes = person.select_one('a[href*=lattes]')['href']\n",
    "\n",
    "        #research field\n",
    "        if person.p is None:\n",
    "            researchfield = None\n",
    "        else:\n",
    "            researchfield = person.p.string \n",
    "\n",
    "        #email\n",
    "        if person.select_one('a[href*=mailto]') is None:\n",
    "            email = None\n",
    "        else:\n",
    "            email = person.select_one('a[href*=mailto]').string\n",
    "\n",
    "        #admission date\n",
    "        if person.find('span', class_='date-display-single') is None:\n",
    "            admissiondate = None\n",
    "        else:\n",
    "            admissiondate = person.find('span', class_='date-display-single').text \n",
    "\n",
    "        peoplelist.append([name, lattes, researchfield, email, admissiondate])    \n",
    "    return peoplelist\n",
    "\n",
    "peoplelist = []\n",
    "\n",
    "for page in range(0,lastpage):\n",
    "    print('---- Starting page ' + str(page) + '----')\n",
    "    req = requests.get(url + '?page=' + str(page))\n",
    "    soup = bs(req.text, 'html.parser')\n",
    "    people = soup.find_all('div', class_='col-sm-9')\n",
    "    peoplelist = peoplelist + people_data(people)\n",
    "    print('---- End of page ' + str(page) + '----\\n')"
   ]
  },
  {
   "cell_type": "code",
   "execution_count": 226,
   "id": "55515dea-9a73-493f-9f80-bb5d8d237248",
   "metadata": {},
   "outputs": [],
   "source": [
    "#insert into a dataframe\n",
    "people_df = pd.DataFrame(peoplelist, columns = ('Name', 'Lattes', 'Field of Interest','Email', 'Admission Date'))"
   ]
  },
  {
   "cell_type": "code",
   "execution_count": 247,
   "id": "416ce614-32d8-41a8-8b3e-4b6e65135916",
   "metadata": {},
   "outputs": [],
   "source": [
    "os.chdir(\"/home/vitor/OneDrive/Faculdade/Orientadores/Busca orientador/docentes-FAGEN-UFU\")"
   ]
  },
  {
   "cell_type": "code",
   "execution_count": 248,
   "id": "49a99160-50fc-4597-86ab-97721a594d71",
   "metadata": {},
   "outputs": [],
   "source": [
    "#export to xlsx \n",
    "if not os.path.exists('data'):\n",
    "    os.mkdir('data')\n",
    "people_df.to_excel('~/OneDrive/Faculdade/Orientadores/Busca orientador/docentes-FAGEN-UFU/data/orientadoresfagen.xlsx')"
   ]
  }
 ],
 "metadata": {
  "kernelspec": {
   "display_name": "Python 3",
   "language": "python",
   "name": "python3"
  },
  "language_info": {
   "codemirror_mode": {
    "name": "ipython",
    "version": 3
   },
   "file_extension": ".py",
   "mimetype": "text/x-python",
   "name": "python",
   "nbconvert_exporter": "python",
   "pygments_lexer": "ipython3",
   "version": "3.9.6"
  }
 },
 "nbformat": 4,
 "nbformat_minor": 5
}
